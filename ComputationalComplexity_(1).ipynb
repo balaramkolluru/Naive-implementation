{
  "nbformat": 4,
  "nbformat_minor": 0,
  "metadata": {
    "colab": {
      "name": "ComputationalComplexity (1).ipynb",
      "provenance": [],
      "include_colab_link": true
    },
    "kernelspec": {
      "display_name": "Python 3",
      "language": "python",
      "name": "python3"
    }
  },
  "cells": [
    {
      "cell_type": "markdown",
      "metadata": {
        "id": "view-in-github",
        "colab_type": "text"
      },
      "source": [
        "<a href=\"https://colab.research.google.com/github/balaramkolluru/Naive-implementation/blob/main/ComputationalComplexity_(1).ipynb\" target=\"_parent\"><img src=\"https://colab.research.google.com/assets/colab-badge.svg\" alt=\"Open In Colab\"/></a>"
      ]
    },
    {
      "cell_type": "code",
      "metadata": {
        "id": "bZw5VY9fXvdu",
        "colab": {
          "base_uri": "https://localhost:8080/"
        },
        "outputId": "d2efaa27-0d6b-4626-f9c4-d873801888b3"
      },
      "source": [
        "import numpy as np\n",
        "import random\n",
        "\n",
        "l = list(range(100))\n",
        "random.shuffle(l)\n",
        "\n",
        "l"
      ],
      "execution_count": 1,
      "outputs": [
        {
          "output_type": "execute_result",
          "data": {
            "text/plain": [
              "[63,\n",
              " 2,\n",
              " 37,\n",
              " 82,\n",
              " 16,\n",
              " 56,\n",
              " 40,\n",
              " 71,\n",
              " 75,\n",
              " 22,\n",
              " 49,\n",
              " 11,\n",
              " 99,\n",
              " 57,\n",
              " 15,\n",
              " 83,\n",
              " 98,\n",
              " 60,\n",
              " 42,\n",
              " 64,\n",
              " 78,\n",
              " 81,\n",
              " 3,\n",
              " 23,\n",
              " 6,\n",
              " 73,\n",
              " 74,\n",
              " 53,\n",
              " 35,\n",
              " 69,\n",
              " 65,\n",
              " 67,\n",
              " 70,\n",
              " 14,\n",
              " 36,\n",
              " 91,\n",
              " 38,\n",
              " 45,\n",
              " 52,\n",
              " 84,\n",
              " 59,\n",
              " 33,\n",
              " 54,\n",
              " 80,\n",
              " 46,\n",
              " 88,\n",
              " 96,\n",
              " 51,\n",
              " 85,\n",
              " 43,\n",
              " 39,\n",
              " 68,\n",
              " 9,\n",
              " 12,\n",
              " 10,\n",
              " 66,\n",
              " 8,\n",
              " 94,\n",
              " 47,\n",
              " 27,\n",
              " 24,\n",
              " 4,\n",
              " 79,\n",
              " 25,\n",
              " 0,\n",
              " 31,\n",
              " 58,\n",
              " 21,\n",
              " 48,\n",
              " 87,\n",
              " 86,\n",
              " 95,\n",
              " 44,\n",
              " 17,\n",
              " 41,\n",
              " 77,\n",
              " 61,\n",
              " 62,\n",
              " 32,\n",
              " 13,\n",
              " 90,\n",
              " 92,\n",
              " 50,\n",
              " 1,\n",
              " 5,\n",
              " 30,\n",
              " 26,\n",
              " 93,\n",
              " 18,\n",
              " 97,\n",
              " 29,\n",
              " 55,\n",
              " 19,\n",
              " 7,\n",
              " 20,\n",
              " 89,\n",
              " 34,\n",
              " 28,\n",
              " 72,\n",
              " 76]"
            ]
          },
          "metadata": {
            "tags": []
          },
          "execution_count": 1
        }
      ]
    },
    {
      "cell_type": "code",
      "metadata": {
        "id": "QBhWRfIaXvd3",
        "colab": {
          "base_uri": "https://localhost:8080/"
        },
        "outputId": "bc7a75e5-1e59-4ea0-a99a-5ab645a0e501"
      },
      "source": [
        "# search for an elemnt q in the list: O(n) where n is the length of the list\n",
        "q = 31\n",
        "isFound=False;\n",
        "for ele in l:\n",
        "    if ele==31:\n",
        "        print(\"Found\")\n",
        "        isFound=True\n",
        "        break;\n",
        "if isFound == False:\n",
        "    print(\"Not Found\")\n",
        "    \n",
        "    \n"
      ],
      "execution_count": 2,
      "outputs": [
        {
          "output_type": "stream",
          "text": [
            "Found\n"
          ],
          "name": "stdout"
        }
      ]
    },
    {
      "cell_type": "code",
      "metadata": {
        "id": "JvSHC5wDXvd8",
        "colab": {
          "base_uri": "https://localhost:8080/"
        },
        "outputId": "78212cd0-f8e8-4e6a-b8e0-a84c36901293"
      },
      "source": [
        "#What if the list is sorted? Can we search faster?\n",
        "# Show O(log n)\n",
        "\n",
        "import math\n",
        "\n",
        "#Source: http://www.geeksforgeeks.org/binary-search/ \n",
        "#Returns index of x in arr if present, else -1\n",
        "def binarySearch (arr, l, r, x):\n",
        " \n",
        "    # Check base case\n",
        "    if r >= l:\n",
        " \n",
        "        mid = l + math.floor((r - l)/2)\n",
        " \n",
        "        # If element is present at the middle itself\n",
        "        if arr[mid] == x:\n",
        "            return mid\n",
        "         \n",
        "        # If element is smaller than mid, then it can only\n",
        "        # be present in left subarray\n",
        "        elif arr[mid] > x:\n",
        "            return binarySearch(arr, l, mid-1, x)\n",
        " \n",
        "        # Else the element can only be present in right subarray\n",
        "        else:\n",
        "            return binarySearch(arr, mid+1, r, x)\n",
        " \n",
        "    else:\n",
        "        # Element is not present in the array\n",
        "        return -1\n",
        "\n",
        "\n",
        "l.sort();\n",
        "arr = l;\n",
        "q =31;\n",
        "binarySearch(arr,0,len(arr)-1,q)\n",
        "\n"
      ],
      "execution_count": 3,
      "outputs": [
        {
          "output_type": "execute_result",
          "data": {
            "text/plain": [
              "31"
            ]
          },
          "metadata": {
            "tags": []
          },
          "execution_count": 3
        }
      ]
    },
    {
      "cell_type": "code",
      "metadata": {
        "id": "N43KYlGTXveA",
        "colab": {
          "base_uri": "https://localhost:8080/"
        },
        "outputId": "5509541c-15d2-48c5-9a2a-1a5cd231a5be"
      },
      "source": [
        "# Find elements common in two lists:\n",
        "l1 = list(range(100))\n",
        "random.shuffle(l1)\n",
        "\n",
        "\n",
        "l2 = list(range(50))\n",
        "random.shuffle(l2)\n",
        "\n",
        "# find common elements : O(n*m)\n",
        "cnt=0;\n",
        "for i in l1:\n",
        "    for j in l2:\n",
        "        if i==j:\n",
        "            print(i)\n",
        "            cnt += 1;\n",
        "print(\"Number of common elements:\", cnt)                      "
      ],
      "execution_count": 4,
      "outputs": [
        {
          "output_type": "stream",
          "text": [
            "17\n",
            "36\n",
            "31\n",
            "16\n",
            "1\n",
            "25\n",
            "27\n",
            "49\n",
            "45\n",
            "43\n",
            "18\n",
            "14\n",
            "39\n",
            "10\n",
            "37\n",
            "15\n",
            "5\n",
            "0\n",
            "13\n",
            "26\n",
            "38\n",
            "20\n",
            "33\n",
            "48\n",
            "28\n",
            "34\n",
            "7\n",
            "23\n",
            "29\n",
            "21\n",
            "12\n",
            "3\n",
            "47\n",
            "42\n",
            "11\n",
            "4\n",
            "41\n",
            "40\n",
            "35\n",
            "32\n",
            "46\n",
            "8\n",
            "6\n",
            "2\n",
            "24\n",
            "30\n",
            "19\n",
            "22\n",
            "44\n",
            "9\n",
            "Number of common elements: 50\n"
          ],
          "name": "stdout"
        }
      ]
    },
    {
      "cell_type": "code",
      "metadata": {
        "id": "kIQGrDDlXveD",
        "colab": {
          "base_uri": "https://localhost:8080/"
        },
        "outputId": "613f7db9-9c57-48b2-d9cf-6fee274c3aa8"
      },
      "source": [
        "# Find elements common in two lists:\n",
        "l1 = list(range(100))\n",
        "random.shuffle(l1)\n",
        "\n",
        "\n",
        "l2 = list(range(50))\n",
        "random.shuffle(l2)\n",
        "\n",
        "# find common elemnts in lists in O(n) time and O(m) space if m<n\n",
        "\n",
        "## add all elements in the smallest list into a hashtable/Dict: O(m) space\n",
        "smallList = {}\n",
        "for ele in l2:\n",
        "    smallList[ele] = 1; # any value is OK. Key is important\n",
        "    \n",
        "# Now find common element \n",
        "cnt=0;\n",
        "for i in l1:\n",
        "    if smallList.get(i) != None: # search happens in constant time.\n",
        "        print(i);\n",
        "        cnt += 1;\n",
        "print(\"Number of common elements:\", cnt)                      "
      ],
      "execution_count": 5,
      "outputs": [
        {
          "output_type": "stream",
          "text": [
            "1\n",
            "22\n",
            "37\n",
            "47\n",
            "29\n",
            "17\n",
            "6\n",
            "39\n",
            "23\n",
            "21\n",
            "26\n",
            "7\n",
            "40\n",
            "41\n",
            "8\n",
            "31\n",
            "14\n",
            "32\n",
            "34\n",
            "27\n",
            "12\n",
            "15\n",
            "10\n",
            "19\n",
            "36\n",
            "18\n",
            "33\n",
            "20\n",
            "46\n",
            "3\n",
            "16\n",
            "2\n",
            "13\n",
            "0\n",
            "42\n",
            "45\n",
            "35\n",
            "5\n",
            "4\n",
            "25\n",
            "44\n",
            "49\n",
            "48\n",
            "11\n",
            "9\n",
            "28\n",
            "43\n",
            "38\n",
            "30\n",
            "24\n",
            "Number of common elements: 50\n"
          ],
          "name": "stdout"
        }
      ]
    },
    {
      "cell_type": "code",
      "metadata": {
        "id": "6aVBXWL0XveG"
      },
      "source": [
        ""
      ],
      "execution_count": null,
      "outputs": []
    }
  ]
}