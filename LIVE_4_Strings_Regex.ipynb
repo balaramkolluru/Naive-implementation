{
  "nbformat": 4,
  "nbformat_minor": 0,
  "metadata": {
    "kernelspec": {
      "display_name": "Python 3",
      "language": "python",
      "name": "python3"
    },
    "language_info": {
      "codemirror_mode": {
        "name": "ipython",
        "version": 3
      },
      "file_extension": ".py",
      "mimetype": "text/x-python",
      "name": "python",
      "nbconvert_exporter": "python",
      "pygments_lexer": "ipython3",
      "version": "3.7.3"
    },
    "colab": {
      "name": "LIVE_4_Strings_Regex.ipynb",
      "provenance": [],
      "include_colab_link": true
    }
  },
  "cells": [
    {
      "cell_type": "markdown",
      "metadata": {
        "id": "view-in-github",
        "colab_type": "text"
      },
      "source": [
        "<a href=\"https://colab.research.google.com/github/balaramkolluru/Naive-implementation/blob/main/LIVE_4_Strings_Regex.ipynb\" target=\"_parent\"><img src=\"https://colab.research.google.com/assets/colab-badge.svg\" alt=\"Open In Colab\"/></a>"
      ]
    },
    {
      "cell_type": "markdown",
      "metadata": {
        "id": "nuNbHCy34DkE"
      },
      "source": [
        "## LIVE 4: Strings and Regex \n",
        " - Focus: Basics of strings and regex in Python + Simple problem solving. \n",
        " - Prereq: Basic knowledge of Strings and Regex in Python + previous code-sessions.\n",
        " - Reference for basics: \n",
        "     - https://docs.python.org/3/howto/regex.html\n",
        "     - https://docs.python.org/3/library/re.html\n",
        "     - https://www.w3schools.com/python/python_strings.asp\n",
        "     - https://www.geeksforgeeks.org/python-strings/\n",
        "     "
      ]
    },
    {
      "cell_type": "markdown",
      "metadata": {
        "id": "TsImlG4B4DkJ"
      },
      "source": [
        "\n",
        "## Quick recap of Regex in Python\n",
        "- Go through multiple examples to understand regex better\n",
        "- Key life-skill: learn from resources on the internet.\n",
        "- https://docs.python.org/3/howto/regex.html\n",
        "- https://www.w3schools.com/python/python_regex.asp\n",
        "- https://www.tutorialspoint.com/python/python_reg_expressions.htm\n"
      ]
    },
    {
      "cell_type": "markdown",
      "metadata": {
        "id": "mbv0NUjo4DkK"
      },
      "source": [
        "## Problem-1: Mask personal information in email and phone numbers"
      ]
    },
    {
      "cell_type": "markdown",
      "metadata": {
        "id": "8Ip1fK6v4DkK"
      },
      "source": [
        "- Email: xxxxxxxxx@aaaa.zzzz\n",
        "    - Masked:x#####x@aaaa.zzzz [FIVE # between first and last char of the name]  \n",
        "    \n",
        "    <br>\n",
        "    \n",
        "- Phone:  digits 0-9 or any of the characters from  { '-', '(', ')', ' '} \n",
        "    - Example: 1(234)567-890   --> ###-###-7890\"\n",
        "    "
      ]
    },
    {
      "cell_type": "code",
      "metadata": {
        "id": "lf1NKn1y4DkL",
        "outputId": "6a4813e0-0819-4be5-a630-ab9d2651031f"
      },
      "source": [
        "# email-masking\n",
        "s = \"abcd@efgh.com\";\n",
        "\n",
        "#output: a#####d@efgh.com\n",
        "# Any suggestions?\n",
        "#\n",
        "#\n",
        "#\n",
        "#\n",
        "#\n",
        "#\n",
        "#\n",
        "#\n",
        "#\n",
        "#\n",
        "#\n",
        "#\n",
        "#\n",
        "#\n",
        "#\n",
        "#\n",
        "#\n",
        "#\n",
        "#\n",
        "#\n",
        "#\n",
        "#\n",
        "#\n",
        "#\n",
        "#\n",
        "#\n",
        "#\n",
        "#\n",
        "#\n",
        "#\n",
        "#\n",
        "#\n",
        "#\n",
        "#\n",
        "#\n",
        "#\n",
        "#\n",
        "#\n",
        "\n",
        "#simple string formatting : https://www.programiz.com/python-programming/methods/string/format\n",
        "\n",
        "from IPython.display import Image\n",
        "Image(url= \"https://cdn.programiz.com/sites/tutorial2program/files/python-format-positional-argument.jpg\")\n",
        "\n"
      ],
      "execution_count": null,
      "outputs": [
        {
          "output_type": "execute_result",
          "data": {
            "text/html": [
              "<img src=\"https://cdn.programiz.com/sites/tutorial2program/files/python-format-positional-argument.jpg\"/>"
            ],
            "text/plain": [
              "<IPython.core.display.Image object>"
            ]
          },
          "metadata": {
            "tags": []
          },
          "execution_count": 13
        }
      ]
    },
    {
      "cell_type": "code",
      "metadata": {
        "id": "srUrLMu04DkN",
        "outputId": "a89ce8b7-03c8-4572-80c8-c517d867c2de"
      },
      "source": [
        "# boundary case: check if email or not\n",
        "s = \"abcd@efgh.com\";\n",
        "\n",
        "def maskEmail(s):\n",
        "    if '@' in s: \n",
        "        name, domain = s.split('@')\n",
        "        return (\"{0}#####{1}@{2}\".format(name[0], name[-1], domain));\n",
        "\n",
        "print(maskEmail(s))"
      ],
      "execution_count": null,
      "outputs": [
        {
          "output_type": "stream",
          "text": [
            "a#####d@efgh.com\n"
          ],
          "name": "stdout"
        }
      ]
    },
    {
      "cell_type": "code",
      "metadata": {
        "id": "9IjqV0Ju4DkQ",
        "outputId": "eea634c1-02f9-4fd3-bfa0-6311a9b51149"
      },
      "source": [
        "# BOUDNARY CASE: a@bcdef.com\n",
        "print(maskEmail(\"a@bcdef.com\"))"
      ],
      "execution_count": null,
      "outputs": [
        {
          "output_type": "stream",
          "text": [
            "a#####a@bcdef.com\n"
          ],
          "name": "stdout"
        }
      ]
    },
    {
      "cell_type": "code",
      "metadata": {
        "id": "vc2m1X8-4DkR",
        "outputId": "e7147c98-7c6e-4d4c-e4ac-090b915e18a2"
      },
      "source": [
        "# BOUDNARY CASE: abcd.com\n",
        "print(maskEmail(\"abcd.com\"))"
      ],
      "execution_count": null,
      "outputs": [
        {
          "output_type": "stream",
          "text": [
            "None\n"
          ],
          "name": "stdout"
        }
      ]
    },
    {
      "cell_type": "code",
      "metadata": {
        "id": "p6siK2va4DkU",
        "outputId": "f5e92bca-8713-47f7-96f3-321fcbf8f7fb"
      },
      "source": [
        "# BOUDNARY CASE: abcd@cdef\n",
        "print(maskEmail(\"abcd@cdef\"))"
      ],
      "execution_count": null,
      "outputs": [
        {
          "output_type": "stream",
          "text": [
            "a#####d@cdef\n"
          ],
          "name": "stdout"
        }
      ]
    },
    {
      "cell_type": "code",
      "metadata": {
        "id": "5Jn3to2_4DkV",
        "outputId": "8ed9b1c2-1ee9-4123-ceba-556931f3f985"
      },
      "source": [
        "# Check if email is valid is another function.\n",
        "# Any suggestions?\n",
        "#\n",
        "#\n",
        "#\n",
        "#\n",
        "#\n",
        "#\n",
        "#\n",
        "#\n",
        "#\n",
        "#\n",
        "#\n",
        "#\n",
        "#\n",
        "#\n",
        "#\n",
        "#\n",
        "#\n",
        "#\n",
        "#\n",
        "#\n",
        "#\n",
        "#\n",
        "#\n",
        "#\n",
        "#\n",
        "#\n",
        "#\n",
        "#\n",
        "#\n",
        "#\n",
        "#\n",
        "#\n",
        "#\n",
        "#\n",
        "#\n",
        "#\n",
        "#\n",
        "#\n",
        "import re\n",
        "def isValidEmail(s):\n",
        "    #refer:https://www.w3schools.com/python/python_regex.asp for regex syntax\n",
        "    #https://docs.python.org/2/library/re.html\n",
        "    \n",
        "    res = re.search('^\\w+([\\.-]?\\w+)*@\\w+([\\.-]?\\w+)*(\\.\\w{2,3})+$', s, re.IGNORECASE)   #https://www.geeksforgeeks.org/check-if-email-address-valid-or-not-in-python/   \n",
        "    print(res)\n",
        "    \n",
        "    if(res):\n",
        "        return True;\n",
        "    else:\n",
        "        return False;\n",
        "\n",
        "print(isValidEmail(\"abcd@cdef\"))"
      ],
      "execution_count": null,
      "outputs": [
        {
          "output_type": "stream",
          "text": [
            "None\n",
            "False\n"
          ],
          "name": "stdout"
        }
      ]
    },
    {
      "cell_type": "code",
      "metadata": {
        "id": "LHLNay4t4DkW",
        "outputId": "471a7f11-b7cd-45a8-8bfc-09a695a1bf8d"
      },
      "source": [
        "print(isValidEmail(\"abcd@cdef.c\"))"
      ],
      "execution_count": null,
      "outputs": [
        {
          "output_type": "stream",
          "text": [
            "None\n",
            "False\n"
          ],
          "name": "stdout"
        }
      ]
    },
    {
      "cell_type": "code",
      "metadata": {
        "id": "0zhH7fIX4DkX",
        "outputId": "46001dfa-85a8-4a73-8fd6-924a9d4d3521"
      },
      "source": [
        "print(isValidEmail(\"a@cdef.com\"))"
      ],
      "execution_count": null,
      "outputs": [
        {
          "output_type": "stream",
          "text": [
            "<re.Match object; span=(0, 10), match='a@cdef.com'>\n",
            "True\n"
          ],
          "name": "stdout"
        }
      ]
    },
    {
      "cell_type": "code",
      "metadata": {
        "id": "Fzh1MR8p4DkY",
        "outputId": "bf96fa43-a6c5-4df9-f195-c1e2c211cf14"
      },
      "source": [
        "print(isValidEmail(\"abcd@iisc.ac.in\"))"
      ],
      "execution_count": null,
      "outputs": [
        {
          "output_type": "stream",
          "text": [
            "<re.Match object; span=(0, 15), match='abcd@iisc.ac.in'>\n",
            "True\n"
          ],
          "name": "stdout"
        }
      ]
    },
    {
      "cell_type": "code",
      "metadata": {
        "id": "NscrHwtS4DkY",
        "outputId": "c8e18627-466c-44a8-d8d3-c9444f335c82"
      },
      "source": [
        "regex = '^\\w+([\\.-]?\\w+)*@\\w+([\\.-]?\\w+)*(\\.\\w{2,3})+$' # highly non-readbale code\n",
        "\n",
        "#https://docs.python.org/2/library/re.html\n",
        "regex_verbose = re.compile(r\"\"\"                  # VERY readable and easy to understand. Software maintanability.\n",
        "            ^\\w+([\\.-]?\\w+)*              # start, \\w+, \n",
        "            @                             # single @ sign \n",
        "            \\w+([\\.-]?\\w+)*               # Domain name \n",
        "            (\\.\\w{2,3})+$                 # .com, .ac.in,    \n",
        "             \"\"\",re.VERBOSE | re.IGNORECASE)          \n",
        "\n",
        "\n",
        "res = regex_verbose.match(\"abcd@iisc.ac.in\");\n",
        "\n",
        "print(res.string)\n",
        "print(res)"
      ],
      "execution_count": null,
      "outputs": [
        {
          "output_type": "stream",
          "text": [
            "abcd@iisc.ac.in\n",
            "<re.Match object; span=(0, 15), match='abcd@iisc.ac.in'>\n"
          ],
          "name": "stdout"
        }
      ]
    },
    {
      "cell_type": "code",
      "metadata": {
        "id": "BDAkccxP4DkZ",
        "outputId": "f4333c21-e535-437e-e2fd-6ded67961586"
      },
      "source": [
        "# PHONE NUMBER MASKING\n",
        "#Example: 1(234)567-890 --> ###-###-7890\"\n",
        "\n",
        "\n",
        "ph = \"1(234)567-890\"\n",
        "\n",
        "\n",
        "digits = re.sub(\"\\D\", \"\", ph)  # \\D=>non-decimal, re.substitute, https://docs.python.org/3/library/re.html \n",
        "\n",
        "print(digits)\n",
        "    \n",
        "masked =  \"###-###-{}\".format(digits[-4:])\n",
        "print(masked)\n",
        "\n"
      ],
      "execution_count": null,
      "outputs": [
        {
          "output_type": "stream",
          "text": [
            "1234567890\n",
            "###-###-7890\n"
          ],
          "name": "stdout"
        }
      ]
    },
    {
      "cell_type": "code",
      "metadata": {
        "id": "RrdGrmW-4Dka",
        "outputId": "fff076e1-8c3d-49d1-8beb-e08045afce42"
      },
      "source": [
        "def maskPhoneNum(ph):\n",
        "    digits = re.sub(\"\\D\", \"\", ph)  # \\D=>non-decimal, re.substitute, https://docs.python.org/3/library/re.html \n",
        "    if len(digits) != 10: # BOUNDARY CASE\n",
        "        return None;\n",
        "    else:\n",
        "        masked =  \"###-###-{}\".format(digits[-4:])\n",
        "        return masked\n",
        "\n",
        "print(maskPhoneNum(\"1(234)567-890\"))\n"
      ],
      "execution_count": null,
      "outputs": [
        {
          "output_type": "stream",
          "text": [
            "###-###-7890\n"
          ],
          "name": "stdout"
        }
      ]
    },
    {
      "cell_type": "markdown",
      "metadata": {
        "id": "9M4yaw0_4Dkb"
      },
      "source": [
        "print(maskPhoneNum(\"1(234)567-89\"))"
      ]
    },
    {
      "cell_type": "markdown",
      "metadata": {
        "id": "jtZVqkfu4Dkb"
      },
      "source": [
        "#### Exercise:  12 digit phone numbers with 2 digits of ISD  code strtaing with + \n",
        "- e.g: +86-(99)12345678    ---->  (+86)-###-###-5678\n",
        "************\n",
        "************\n",
        "************************\n",
        "************\n",
        "************\n",
        "************\n",
        "************\n"
      ]
    },
    {
      "cell_type": "markdown",
      "metadata": {
        "id": "z8-me3Bk4Dkc"
      },
      "source": [
        "## Problem 2: Extract data from a PDF invoice"
      ]
    },
    {
      "cell_type": "markdown",
      "metadata": {
        "id": "B7hDdW7s4Dkc"
      },
      "source": [
        "- Given a PDF [https://slicedinvoices.com/pdf/wordpress-pdf-invoice-plugin-sample.pdf], extract predefined key fields from this PDF\n",
        "- Assume the format is fixed.\n"
      ]
    },
    {
      "cell_type": "markdown",
      "metadata": {
        "id": "F_W_0AgX4Dkc"
      },
      "source": [
        "#### NOTE: Download and save the above PDF as invoice.pdf in the same folder as your iPython notebook for the following code to work\n"
      ]
    },
    {
      "cell_type": "code",
      "metadata": {
        "id": "bwQqGKz_4Dkd",
        "outputId": "3c7ba44f-321a-4dad-fc9d-6e4a0d02d5fe"
      },
      "source": [
        "# https://realpython.com/pdf-python/#history-of-pypdf-pypdf2-and-pypdf4\n",
        "\n",
        "!pip3 install pyPDF4\n"
      ],
      "execution_count": null,
      "outputs": [
        {
          "output_type": "stream",
          "text": [
            "Collecting pyPDF4\n",
            "\u001b[?25l  Downloading https://files.pythonhosted.org/packages/4f/1f/509b44850c475c101aa5b5c9b81755cedd363389d6fbb5c53be6fa915a61/PyPDF4-1.27.0.tar.gz (63kB)\n",
            "\u001b[K    100% |████████████████████████████████| 71kB 1.5MB/s ta 0:00:011\n",
            "\u001b[?25hBuilding wheels for collected packages: pyPDF4\n",
            "  Building wheel for pyPDF4 (setup.py) ... \u001b[?25ldone\n",
            "\u001b[?25h  Stored in directory: /Users/varma/Library/Caches/pip/wheels/eb/4f/15/c64d533cb496fd874f56045fe30e8cc0ac59f99ecdd718040d\n",
            "Successfully built pyPDF4\n",
            "Installing collected packages: pyPDF4\n",
            "Successfully installed pyPDF4-1.27.0\n"
          ],
          "name": "stdout"
        }
      ]
    },
    {
      "cell_type": "code",
      "metadata": {
        "id": "dbesGmeH4Dke",
        "outputId": "7de6b1e7-21ac-4933-f0aa-b3cb72e9e8a3"
      },
      "source": [
        "# Google \"pyPDF extract text\" ---> https://www.soudegesu.com/en/post/python/extract-text-from-pdf-with-pypdf2/\n",
        "import PyPDF4\n",
        "\n",
        "FILE_PATH = './invoice.pdf'\n",
        "\n",
        "with open(FILE_PATH, mode='rb') as f:\n",
        "    reader = PyPDF4.PdfFileReader(f)\n",
        "    page = reader.getPage(0)\n",
        "    print(page.extractText())\n"
      ],
      "execution_count": null,
      "outputs": [
        {
          "output_type": "stream",
          "text": [
            "Invoice\n",
            "Payment is due within 30 days from date of invoice. Late payment is subject to fees of 5% per month.\n",
            "Thanks for choosing \n",
            "DEMO - Sliced Invoices\n",
            " | \n",
            "admin@slicedinvoices.com\n",
            "Page 1/1\n",
            "From:\n",
            "DEMO - Sliced Invoices\n",
            "Suite 5A-1204\n",
            "123 Somewhere Street\n",
            "Your City AZ 12345\n",
            "admin@slicedinvoices.com\n",
            "Invoice Number\n",
            "INV-3337\n",
            "Order Number\n",
            "12345\n",
            "Invoice Date\n",
            "January 25, 2016\n",
            "Due Date\n",
            "January 31, 2016\n",
            "Total Due\n",
            "$93.50\n",
            "To:\n",
            "Test Business\n",
            "123 Somewhere St\n",
            "Melbourne, VIC 3000\n",
            "test@test.com\n",
            "Hrs/Qty\n",
            "Service\n",
            "Rate/Price\n",
            "Adjust\n",
            "Sub Total\n",
            "1.00\n",
            "Web Design\n",
            "This is a sample description...\n",
            "$85.00\n",
            "0.00%\n",
            "$85.00\n",
            "Sub Total\n",
            "$85.00\n",
            "Tax\n",
            "$8.50\n",
            "Total\n",
            "$93.50\n",
            "ANZ Bank\n",
            "ACC # 1234 1234\n",
            "BSB # 4321 432\n",
            "Paid\n",
            "\n"
          ],
          "name": "stdout"
        }
      ]
    },
    {
      "cell_type": "code",
      "metadata": {
        "id": "h-5uVn4P4Dkf"
      },
      "source": [
        "import PyPDF4\n",
        "\n",
        "FILE_PATH = './invoice.pdf'\n",
        "\n",
        "with open(FILE_PATH, mode='rb') as f:\n",
        "    reader = PyPDF4.PdfFileReader(f)\n",
        "    page = reader.getPage(0)\n",
        "    txt = page.extractText();"
      ],
      "execution_count": null,
      "outputs": []
    },
    {
      "cell_type": "code",
      "metadata": {
        "id": "S0d11CyE4Dkg",
        "outputId": "6f417d40-2319-4e7c-debc-fbe519efc21b"
      },
      "source": [
        "# extract invoice number\n",
        "\n",
        "m = re.findall(\"INV-[0-9]*\", txt)\n",
        "print(m)\n"
      ],
      "execution_count": null,
      "outputs": [
        {
          "output_type": "stream",
          "text": [
            "['INV-3337']\n"
          ],
          "name": "stdout"
        }
      ]
    },
    {
      "cell_type": "code",
      "metadata": {
        "id": "0B3XAXn84Dkg",
        "outputId": "142e14bd-fc5c-4be0-ca0b-ead5d3677a41"
      },
      "source": [
        "# extract amounts\n",
        "m = re.findall(\"$[0-9]*\\.[0-9]*\", txt)\n",
        "print(m)\n"
      ],
      "execution_count": null,
      "outputs": [
        {
          "output_type": "stream",
          "text": [
            "[]\n"
          ],
          "name": "stdout"
        }
      ]
    },
    {
      "cell_type": "code",
      "metadata": {
        "id": "mhTnj4uu4Dkh"
      },
      "source": [
        ""
      ],
      "execution_count": null,
      "outputs": []
    },
    {
      "cell_type": "code",
      "metadata": {
        "id": "gPW8SNbS4Dkh",
        "outputId": "502656b1-2df7-4760-fc1e-b7a95cadeaa8"
      },
      "source": [
        "\n",
        "# extract amounts\n",
        "m = re.findall(\"\\$[0-9]*\\.[0-9]*\", txt)\n",
        "print(m)\n"
      ],
      "execution_count": null,
      "outputs": [
        {
          "output_type": "stream",
          "text": [
            "['$93.50', '$85.00', '$85.00', '$85.00', '$8.50', '$93.50']\n"
          ],
          "name": "stdout"
        }
      ]
    },
    {
      "cell_type": "markdown",
      "metadata": {
        "id": "UckmzcTa4Dki"
      },
      "source": [
        "*********\n",
        "*********\n",
        "*********\n",
        "*********\n",
        "*********\n",
        "******************\n",
        "*********\n",
        "*********\n",
        "******************\n",
        "*********\n"
      ]
    },
    {
      "cell_type": "code",
      "metadata": {
        "id": "sONXGS8h4Dkj",
        "outputId": "245f3344-e7ca-4998-ceb0-75c52e0bf830"
      },
      "source": [
        "# Extract Total Due:\n",
        "m = re.findall(\"Total Due\\$[0-9]*\\.[0-9]*\", txt)\n",
        "print(m)\n",
        "\n"
      ],
      "execution_count": null,
      "outputs": [
        {
          "output_type": "stream",
          "text": [
            "[]\n"
          ],
          "name": "stdout"
        }
      ]
    },
    {
      "cell_type": "code",
      "metadata": {
        "id": "saC3VSbF4Dkk",
        "outputId": "0ca6d1b6-5bd5-46d5-b810-c5ff539d5f3d"
      },
      "source": [
        "# Any suggestions?\n",
        "#\n",
        "#\n",
        "#\n",
        "#\n",
        "#\n",
        "#\n",
        "#\n",
        "#\n",
        "#\n",
        "#\n",
        "#\n",
        "#\n",
        "#\n",
        "#\n",
        "#\n",
        "#\n",
        "#\n",
        "#\n",
        "#\n",
        "#\n",
        "#\n",
        "#\n",
        "#\n",
        "#\n",
        "#\n",
        "#\n",
        "#\n",
        "#\n",
        "#\n",
        "#\n",
        "#\n",
        "#\n",
        "#\n",
        "#\n",
        "#\n",
        "#\n",
        "#\n",
        "#\n",
        "# Extract Total Due:\n",
        "m = re.findall(\"Total Due\\n\\$[0-9]*\\.[0-9]*\", txt)\n",
        "print(m)"
      ],
      "execution_count": null,
      "outputs": [
        {
          "output_type": "stream",
          "text": [
            "['Total Due\\n$93.50']\n"
          ],
          "name": "stdout"
        }
      ]
    },
    {
      "cell_type": "code",
      "metadata": {
        "id": "lNw6PEwm4Dkl",
        "outputId": "4cce9601-4e6e-49c2-ab32-661ba731233b"
      },
      "source": [
        "print(re.findall(\"\\$[0-9]*\\.[0-9]*\",m[0]))"
      ],
      "execution_count": null,
      "outputs": [
        {
          "output_type": "stream",
          "text": [
            "['$93.50']\n"
          ],
          "name": "stdout"
        }
      ]
    },
    {
      "cell_type": "markdown",
      "metadata": {
        "id": "dg0F30h64Dkl"
      },
      "source": [
        "### Ques: How do we handle cases where we want to extract data from multiple invoice formats?\n",
        "\n",
        "\n",
        "#### Assignment: Extract email-addresses from the PDF\n",
        "\n",
        "#### We will continue from here tomorrow. Pelase go through regex- referecnes in detail for tomorrow's session. We will solve a few product based company interview questions."
      ]
    },
    {
      "cell_type": "code",
      "metadata": {
        "id": "-Sfizkgy4Dkl"
      },
      "source": [
        ""
      ],
      "execution_count": null,
      "outputs": []
    }
  ]
}